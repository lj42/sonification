{
 "cells": [
  {
   "cell_type": "markdown",
   "metadata": {},
   "source": [
    "References:\n",
    "* https://pythonhosted.org/pyglet/programming_guide/controlling_playback.html"
   ]
  },
  {
   "cell_type": "markdown",
   "metadata": {},
   "source": [
    "## Set Things Up"
   ]
  },
  {
   "cell_type": "code",
   "execution_count": 2,
   "metadata": {
    "collapsed": false
   },
   "outputs": [],
   "source": [
    "## Import all the things\n",
    "\n",
    "import pyglet\n",
    "import time\n",
    "import sys\n",
    "import numpy as np\n",
    "import pandas as pd"
   ]
  },
  {
   "cell_type": "markdown",
   "metadata": {},
   "source": [
    "## Code to play sound"
   ]
  },
  {
   "cell_type": "markdown",
   "metadata": {},
   "source": [
    "Popup window will open when code is executed. When you close window, sound will stop."
   ]
  },
  {
   "cell_type": "code",
   "execution_count": 6,
   "metadata": {
    "collapsed": false
   },
   "outputs": [],
   "source": [
    "## I want to rewrite all of this as a reusable class somehow\n",
    "\n",
    "try:\n",
    "    player\n",
    "except NameError: player = None\n",
    "    \n",
    "if player is None:\n",
    "    player = pyglet.media.Player()\n",
    "else:\n",
    "    player.delete()\n",
    "    player = pyglet.media.Player()\n",
    "\n",
    "window = pyglet.window.Window()\n",
    "\n",
    "## Load new audio file\n",
    "source1 = pyglet.media.load('sound-files/DING_Red_02_3_NZD.wav', streaming=False)\n",
    "source2 = pyglet.media.load('sound-files/Stable_A_16_NZD.wav', streaming=False)\n",
    "\n",
    "player.queue(source2) ## Change this line to change sound file played\n",
    "\n",
    "# Play the player\n",
    "player.play()\n",
    "\n",
    "@window.event\n",
    "def on_draw():\n",
    "    window.clear()\n",
    "    \n",
    "pyglet.app.run()"
   ]
  },
  {
   "cell_type": "markdown",
   "metadata": {
    "collapsed": false
   },
   "source": [
    "## Code to loop through data frame"
   ]
  },
  {
   "cell_type": "markdown",
   "metadata": {},
   "source": [
    "I want to loop through each line of dataframe to:\n",
    "* Decide whether to play DING\n",
    "* Have a scrolling display in popup window"
   ]
  },
  {
   "cell_type": "code",
   "execution_count": 8,
   "metadata": {
    "collapsed": false
   },
   "outputs": [],
   "source": [
    "df = pd.read_csv('data/intrusion_detection.csv')"
   ]
  },
  {
   "cell_type": "code",
   "execution_count": 9,
   "metadata": {
    "collapsed": false,
    "scrolled": true
   },
   "outputs": [
    {
     "name": "stdout",
     "output_type": "stream",
     "text": [
      "             timestamp counter(mins) Dos scan44 scan11 nerisbotnet blacklist  \\\n",
      "0  2016-03-18 10:47:00             0   0      0      0           0         0   \n",
      "\n",
      "  anomaly-udpscan anomaly-sshscan anomaly-spam  \n",
      "0               0               0            0  \n",
      "             timestamp counter(mins) Dos scan44 scan11 nerisbotnet blacklist  \\\n",
      "1  2016-03-18 10:48:00             1   0      0      0           0         0   \n",
      "\n",
      "  anomaly-udpscan anomaly-sshscan anomaly-spam  \n",
      "1               0               0            0  \n",
      "             timestamp counter(mins) Dos scan44 scan11 nerisbotnet blacklist  \\\n",
      "2  2016-03-18 10:49:00             2   0      0      0           0         0   \n",
      "\n",
      "  anomaly-udpscan anomaly-sshscan anomaly-spam  \n",
      "2               0               0            0  \n",
      "             timestamp counter(mins) Dos scan44 scan11 nerisbotnet blacklist  \\\n",
      "3  2016-03-18 10:50:00             3   0      0      0           0         0   \n",
      "\n",
      "  anomaly-udpscan anomaly-sshscan anomaly-spam  \n",
      "3               0               0            0  \n",
      "             timestamp counter(mins) Dos scan44 scan11 nerisbotnet blacklist  \\\n",
      "4  2016-03-18 10:51:00             4   0      0      0           0         0   \n",
      "\n",
      "  anomaly-udpscan anomaly-sshscan anomaly-spam  \n",
      "4               0               0            0  \n",
      "             timestamp counter(mins) Dos scan44 scan11 nerisbotnet blacklist  \\\n",
      "5  2016-03-18 10:52:00             5   0      0      0           0         1   \n",
      "\n",
      "  anomaly-udpscan anomaly-sshscan anomaly-spam  \n",
      "5               0               0            0  \n",
      "             timestamp counter(mins) Dos scan44 scan11 nerisbotnet blacklist  \\\n",
      "6  2016-03-18 10:53:00             6   0      0      0           0         1   \n",
      "\n",
      "  anomaly-udpscan anomaly-sshscan anomaly-spam  \n",
      "6               0               0            0  \n",
      "             timestamp counter(mins) Dos scan44 scan11 nerisbotnet blacklist  \\\n",
      "7  2016-03-18 10:54:00             7   0      0      0           0         1   \n",
      "\n",
      "  anomaly-udpscan anomaly-sshscan anomaly-spam  \n",
      "7               0               0            0  \n",
      "             timestamp counter(mins) Dos scan44 scan11 nerisbotnet blacklist  \\\n",
      "8  2016-03-18 10:55:00             8   0      0      0           0         1   \n",
      "\n",
      "  anomaly-udpscan anomaly-sshscan anomaly-spam  \n",
      "8               0               0            0  \n",
      "             timestamp counter(mins) Dos scan44 scan11 nerisbotnet blacklist  \\\n",
      "9  2016-03-18 10:56:00             9   0      0      0           0         1   \n",
      "\n",
      "  anomaly-udpscan anomaly-sshscan anomaly-spam  \n",
      "9               0               0            0  \n"
     ]
    },
    {
     "ename": "KeyboardInterrupt",
     "evalue": "",
     "output_type": "error",
     "traceback": [
      "\u001b[0;31m---------------------------------------------------------------------------\u001b[0m",
      "\u001b[0;31mKeyboardInterrupt\u001b[0m                         Traceback (most recent call last)",
      "\u001b[0;32m<ipython-input-9-6950b8188475>\u001b[0m in \u001b[0;36m<module>\u001b[0;34m()\u001b[0m\n\u001b[1;32m      1\u001b[0m \u001b[0;32mfor\u001b[0m \u001b[0mi\u001b[0m \u001b[0;32min\u001b[0m \u001b[0mrange\u001b[0m\u001b[0;34m(\u001b[0m\u001b[0mdf\u001b[0m\u001b[0;34m.\u001b[0m\u001b[0mshape\u001b[0m\u001b[0;34m[\u001b[0m\u001b[0;36m0\u001b[0m\u001b[0;34m]\u001b[0m\u001b[0;34m)\u001b[0m\u001b[0;34m:\u001b[0m\u001b[0;34m\u001b[0m\u001b[0m\n\u001b[0;32m----> 2\u001b[0;31m     \u001b[0mtime\u001b[0m\u001b[0;34m.\u001b[0m\u001b[0msleep\u001b[0m\u001b[0;34m(\u001b[0m\u001b[0;36m1.5\u001b[0m\u001b[0;34m)\u001b[0m\u001b[0;34m\u001b[0m\u001b[0m\n\u001b[0m\u001b[1;32m      3\u001b[0m     \u001b[0mprint\u001b[0m\u001b[0;34m(\u001b[0m\u001b[0mstr\u001b[0m\u001b[0;34m(\u001b[0m\u001b[0mdf\u001b[0m\u001b[0;34m.\u001b[0m\u001b[0miloc\u001b[0m\u001b[0;34m[\u001b[0m\u001b[0mi\u001b[0m\u001b[0;34m]\u001b[0m\u001b[0;34m.\u001b[0m\u001b[0mto_frame\u001b[0m\u001b[0;34m(\u001b[0m\u001b[0;34m)\u001b[0m\u001b[0;34m.\u001b[0m\u001b[0mT\u001b[0m\u001b[0;34m)\u001b[0m\u001b[0;34m)\u001b[0m\u001b[0;34m\u001b[0m\u001b[0m\n",
      "\u001b[0;31mKeyboardInterrupt\u001b[0m: "
     ]
    }
   ],
   "source": [
    "for i in range(df.shape[0]):\n",
    "    time.sleep(1.5)\n",
    "    print(str(df.iloc[i].to_frame().T))"
   ]
  },
  {
   "cell_type": "code",
   "execution_count": null,
   "metadata": {
    "collapsed": true
   },
   "outputs": [],
   "source": []
  }
 ],
 "metadata": {
  "kernelspec": {
   "display_name": "Python [py36]",
   "language": "python",
   "name": "Python [py36]"
  },
  "language_info": {
   "codemirror_mode": {
    "name": "ipython",
    "version": 3
   },
   "file_extension": ".py",
   "mimetype": "text/x-python",
   "name": "python",
   "nbconvert_exporter": "python",
   "pygments_lexer": "ipython3",
   "version": "3.6.2"
  }
 },
 "nbformat": 4,
 "nbformat_minor": 0
}
