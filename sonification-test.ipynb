{
 "cells": [
  {
   "cell_type": "markdown",
   "metadata": {},
   "source": [
    "## Set things up"
   ]
  },
  {
   "cell_type": "code",
   "execution_count": 1,
   "metadata": {
    "collapsed": false
   },
   "outputs": [],
   "source": [
    "## Import all the things\n",
    "\n",
    "import pyglet\n",
    "import pandas as pd"
   ]
  },
  {
   "cell_type": "markdown",
   "metadata": {},
   "source": [
    "## Code to play sound"
   ]
  },
  {
   "cell_type": "markdown",
   "metadata": {},
   "source": [
    "Popup window will open when code is executed. When you close window, sound will stop."
   ]
  },
  {
   "cell_type": "code",
   "execution_count": 2,
   "metadata": {
    "collapsed": true
   },
   "outputs": [],
   "source": [
    "def launch_window(text, clock):\n",
    "    \"\"\" Launch window with text. \"\"\"\n",
    "    \n",
    "    window = pyglet.window.Window(caption='datasong Sound Player')\n",
    "    label = pyglet.text.Label(text,\n",
    "                              font_name='Whitney',\n",
    "                              font_size=16,\n",
    "                              x=window.width//2, y=window.height//2,\n",
    "                              anchor_x='center', anchor_y='center')\n",
    "\n",
    "    @window.event\n",
    "    def on_draw():\n",
    "        window.clear()\n",
    "        label.draw()\n",
    "        \n",
    "    @window.event\n",
    "    def on_close():\n",
    "        clock.unschedule(update)"
   ]
  },
  {
   "cell_type": "code",
   "execution_count": 3,
   "metadata": {
    "collapsed": false
   },
   "outputs": [],
   "source": [
    "def play_background(audio_file):\n",
    "    \"\"\" Play the background song. \"\"\"\n",
    "    \n",
    "    # Instantiate player; remove any preexisting audio from queue\n",
    "\n",
    "    global bplayer\n",
    "    \n",
    "    try:\n",
    "        bplayer\n",
    "    except NameError: bplayer = None\n",
    "\n",
    "    if bplayer is None:\n",
    "        bplayer = pyglet.media.Player()\n",
    "    else:\n",
    "        bplayer.delete()\n",
    "    \n",
    "    # Add new audio file to queue\n",
    "\n",
    "    bsource = pyglet.media.load(audio_file, streaming=False)\n",
    "\n",
    "    bplayer.queue(bsource) \n",
    "    bplayer.play()"
   ]
  },
  {
   "cell_type": "code",
   "execution_count": 4,
   "metadata": {
    "collapsed": true
   },
   "outputs": [],
   "source": [
    "def play_ding(audio_file):\n",
    "    \"\"\" Play DING. \"\"\"\n",
    "\n",
    "    # Instantiate player; remove any preexisting audio from queue\n",
    "    \n",
    "    global dplayer\n",
    "    \n",
    "    try:\n",
    "        dplayer\n",
    "    except NameError: dplayer = None\n",
    "\n",
    "    if dplayer is None:\n",
    "        dplayer = pyglet.media.Player()\n",
    "    else:\n",
    "        dplayer.delete()\n",
    "        \n",
    "    # Add new audio file to queue\n",
    "        \n",
    "    dsource = pyglet.media.load(audio_file, streaming=False)\n",
    "    dplayer.queue(dsource)\n",
    "    dplayer.play()"
   ]
  },
  {
   "cell_type": "code",
   "execution_count": 5,
   "metadata": {
    "collapsed": true
   },
   "outputs": [],
   "source": [
    "def update(dt):\n",
    "    \"\"\" Runs at regular intervals within event loop. \"\"\"\n",
    "    \n",
    "    play_ding('sound-files/DING_StableB_01_1_NZD.wav')"
   ]
  },
  {
   "cell_type": "code",
   "execution_count": 6,
   "metadata": {
    "collapsed": false
   },
   "outputs": [],
   "source": [
    "class Conductor:\n",
    "    \"\"\"\n",
    "    Class that ingests and sonifies data.\n",
    "    \"\"\"\n",
    "\n",
    "    def __init__(self, data):\n",
    "        self.data = data\n",
    "        \n",
    "        if 'DataFrame' not in str(type(self.data)): \n",
    "            raise Exception('Not a pandas DataFrame.')\n",
    "    \n",
    "    def background(self, background):\n",
    "        \"\"\" Select genre of music to use for sonification. \"\"\"\n",
    "        \n",
    "        self.background = background\n",
    "    \n",
    "    def ding(self, cols):\n",
    "        \"\"\" Assign columns for DINGS. \"\"\"\n",
    "        \n",
    "        self.ding_cols = cols\n",
    "        \n",
    "        # Check to make sure columns are in dataframe\n",
    "        \n",
    "        if type(cols) == str:\n",
    "            cols = [cols]\n",
    "\n",
    "        column_check = [col in self.data.columns for col in cols]\n",
    "\n",
    "        if False in column_check:\n",
    "            raise Exception('Column(s) to sonify not in DataFrame.')\n",
    "    -\n",
    "    def play(self):\n",
    "        \"\"\" Sonify and play data. \"\"\"\n",
    "        \n",
    "        # Print text to console\n",
    "        \n",
    "        print('Sonifying data...')\n",
    "        print('Close sound player to stop playback and exit.')\n",
    "        \n",
    "        # Play background\n",
    "        \n",
    "        play_background(self.background)\n",
    "        \n",
    "        # Loop through DataFrame - play dings\n",
    "        \n",
    "        clock = pyglet.clock\n",
    "        clock.schedule_interval(update, 2)\n",
    "        \n",
    "        # Launch window and play sound\n",
    "        \n",
    "        launch_window('Don\\'t panic', clock)\n",
    "        \n",
    "        pyglet.app.run()"
   ]
  },
  {
   "cell_type": "markdown",
   "metadata": {},
   "source": [
    "Run code below to test."
   ]
  },
  {
   "cell_type": "code",
   "execution_count": 7,
   "metadata": {
    "collapsed": false
   },
   "outputs": [
    {
     "name": "stdout",
     "output_type": "stream",
     "text": [
      "Sonifying data...\n",
      "Close sound player to stop playback and exit.\n"
     ]
    }
   ],
   "source": [
    "dat = pd.read_csv('data/intrusion_detection.csv')\n",
    "\n",
    "test = Conductor(dat)\n",
    "test.background('sound-files/Stable_A_16_NZD.wav')\n",
    "test.play()"
   ]
  }
 ],
 "metadata": {
  "kernelspec": {
   "display_name": "Python [py36]",
   "language": "python",
   "name": "Python [py36]"
  },
  "language_info": {
   "codemirror_mode": {
    "name": "ipython",
    "version": 3
   },
   "file_extension": ".py",
   "mimetype": "text/x-python",
   "name": "python",
   "nbconvert_exporter": "python",
   "pygments_lexer": "ipython3",
   "version": "3.6.2"
  }
 },
 "nbformat": 4,
 "nbformat_minor": 0
}
