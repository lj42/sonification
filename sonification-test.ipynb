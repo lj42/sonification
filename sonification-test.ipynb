{
 "cells": [
  {
   "cell_type": "markdown",
   "metadata": {},
   "source": [
    "## Set things up"
   ]
  },
  {
   "cell_type": "code",
   "execution_count": 1,
   "metadata": {
    "collapsed": false
   },
   "outputs": [],
   "source": [
    "## Import all the things\n",
    "\n",
    "import pyglet\n",
    "import time\n",
    "import numpy as np\n",
    "import pandas as pd"
   ]
  },
  {
   "cell_type": "markdown",
   "metadata": {},
   "source": [
    "## Code to play sound"
   ]
  },
  {
   "cell_type": "markdown",
   "metadata": {},
   "source": [
    "Popup window will open when code is executed. When you close window, sound will stop."
   ]
  },
  {
   "cell_type": "code",
   "execution_count": 2,
   "metadata": {
    "collapsed": true
   },
   "outputs": [],
   "source": [
    "def launch_window(text):\n",
    "    \"\"\"\n",
    "    Launch window with text.\n",
    "    \n",
    "    Args:\n",
    "        text (str): Text.\n",
    "    \"\"\"\n",
    "    window = pyglet.window.Window()\n",
    "    label = pyglet.text.Label(text,\n",
    "                              font_name='Whitney',\n",
    "                              font_size=16,\n",
    "                              x=window.width//2, y=window.height//2,\n",
    "                              anchor_x='center', anchor_y='center')\n",
    "\n",
    "    @window.event\n",
    "    def on_draw():\n",
    "        window.clear()\n",
    "        label.draw()    "
   ]
  },
  {
   "cell_type": "code",
   "execution_count": 3,
   "metadata": {
    "collapsed": false
   },
   "outputs": [],
   "source": [
    "def play_background(audio_file):\n",
    "    \"\"\"\n",
    "    Play the background song.\n",
    "    \n",
    "    Args: \n",
    "        audio_file (str): File path of WAV audio file.\n",
    "    \"\"\"\n",
    "    \n",
    "    # Instantiate player\n",
    "    # Remove any preexisting audio from queue\n",
    "    \n",
    "    global bplayer\n",
    "    \n",
    "    try:\n",
    "        bplayer\n",
    "    except NameError: bplayer = None\n",
    "\n",
    "    if bplayer is None:\n",
    "        bplayer = pyglet.media.Player()\n",
    "    else:\n",
    "        bplayer.next_source()\n",
    "    \n",
    "    # Add new audio file to queue\n",
    "\n",
    "    bsource = pyglet.media.load(audio_file, streaming=False)\n",
    "\n",
    "    bplayer.queue(bsource) \n",
    "    bplayer.play()"
   ]
  },
  {
   "cell_type": "code",
   "execution_count": 4,
   "metadata": {
    "collapsed": true
   },
   "outputs": [],
   "source": [
    "def play_ding(audio_file):\n",
    "    \"\"\"\n",
    "    Play DING.\n",
    "    \n",
    "    Args: \n",
    "        audio_file (str): File path of WAV audio file.\n",
    "    \"\"\"\n",
    "    \n",
    "    # Instantiate player\n",
    "    # Remove any preexisting audio from queue\n",
    "    \n",
    "    global dplayer\n",
    "    \n",
    "    try:\n",
    "        dplayer\n",
    "    except NameError: dplayer = None\n",
    "\n",
    "    if dplayer is None:\n",
    "        dplayer = pyglet.media.Player()\n",
    "    else:\n",
    "        dplayer.next_source()\n",
    "        \n",
    "    # Add new audio file to queue\n",
    "        \n",
    "    dsource = pyglet.media.load(audio_file, streaming=False)\n",
    "    \n",
    "    dsource.play()"
   ]
  },
  {
   "cell_type": "code",
   "execution_count": 45,
   "metadata": {
    "collapsed": false
   },
   "outputs": [],
   "source": [
    "class Conductor:\n",
    "    \"\"\"\n",
    "    Class that ingests and sonifies data.\n",
    "    \"\"\"\n",
    "\n",
    "    def __init__(self, data):\n",
    "        self.data = data\n",
    "    \n",
    "    def background(self, background):\n",
    "        \"\"\" Select genre of music to use for sonification. \"\"\"\n",
    "        \n",
    "        self.background = background\n",
    "    \n",
    "    def ding(self, cols):\n",
    "        \"\"\" Assign columns for DINGS. \"\"\"\n",
    "        \n",
    "        self.ding_cols = cols\n",
    "        \n",
    "        # Check to make sure columns are in dataframe\n",
    "        \n",
    "        if type(cols) == str:\n",
    "            cols = [cols]\n",
    "\n",
    "        column_check = [col in self.data.columns for col in cols]\n",
    "\n",
    "        if False in column_check:\n",
    "            raise Exception('Column(s) to sonify not in dataframe.')\n",
    "    \n",
    "    def play(self):\n",
    "        \"\"\" Sonify and play data. \"\"\"\n",
    "        \n",
    "        # Print text to console\n",
    "        \n",
    "        print('Sonifying data...')\n",
    "        print('Close music player to stop playback and exit.')\n",
    "        \n",
    "        # Launch window and play sound\n",
    "        \n",
    "        launch_window('Don\\'t panic')\n",
    "        play_background(self.background)\n",
    "        pyglet.app.run()"
   ]
  },
  {
   "cell_type": "markdown",
   "metadata": {},
   "source": [
    "Run code below to test."
   ]
  },
  {
   "cell_type": "code",
   "execution_count": 51,
   "metadata": {
    "collapsed": false
   },
   "outputs": [
    {
     "name": "stdout",
     "output_type": "stream",
     "text": [
      "Sonifying data...\n",
      "Close music player to stop playback and exit.\n"
     ]
    }
   ],
   "source": [
    "dat = pd.read_csv('data/intrusion_detection.csv')\n",
    "\n",
    "test = Conductor(dat)\n",
    "test.background('sound-files/Stable_A_16_NZD.wav')\n",
    "test.play()"
   ]
  },
  {
   "cell_type": "markdown",
   "metadata": {
    "collapsed": false
   },
   "source": [
    "## Code to loop through data frame"
   ]
  },
  {
   "cell_type": "markdown",
   "metadata": {},
   "source": [
    "_NOT SURE IF I WANT TO KEEP THIS_"
   ]
  },
  {
   "cell_type": "markdown",
   "metadata": {},
   "source": [
    "I want to loop through each line of dataframe to:\n",
    "* Decide whether to play DING\n",
    "* Have a scrolling display in popup window"
   ]
  },
  {
   "cell_type": "code",
   "execution_count": 10,
   "metadata": {
    "collapsed": false,
    "scrolled": true
   },
   "outputs": [],
   "source": [
    "def loop_rows(df):\n",
    "    \"\"\"\n",
    "    Loop through dataframe, row-by-row. Pause for 1.5 seconds between rows.\n",
    "    \"\"\"\n",
    "\n",
    "    for i in range(df.shape[0]):\n",
    "        time.sleep(1.5)\n",
    "        print(str(df.iloc[i].to_frame().T))"
   ]
  }
 ],
 "metadata": {
  "kernelspec": {
   "display_name": "Python [py36]",
   "language": "python",
   "name": "Python [py36]"
  },
  "language_info": {
   "codemirror_mode": {
    "name": "ipython",
    "version": 3
   },
   "file_extension": ".py",
   "mimetype": "text/x-python",
   "name": "python",
   "nbconvert_exporter": "python",
   "pygments_lexer": "ipython3",
   "version": "3.6.2"
  }
 },
 "nbformat": 4,
 "nbformat_minor": 0
}
