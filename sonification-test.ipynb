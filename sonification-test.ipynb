{
 "cells": [
  {
   "cell_type": "markdown",
   "metadata": {},
   "source": [
    "## Code to set things up"
   ]
  },
  {
   "cell_type": "code",
   "execution_count": 2,
   "metadata": {
    "collapsed": false
   },
   "outputs": [],
   "source": [
    "## Import all the things\n",
    "\n",
    "import pyglet\n",
    "import sys\n",
    "import numpy as np\n",
    "import pandas as pd"
   ]
  },
  {
   "cell_type": "code",
   "execution_count": 3,
   "metadata": {
    "collapsed": false
   },
   "outputs": [],
   "source": [
    "## Create a to load audio file into pyglet player\n",
    "\n",
    "class SoundWindow(pyglet.window.Window):\n",
    "    \"\"\"\n",
    "    Load and play an audio file using pyglet.\n",
    "    \"\"\"\n",
    "\n",
    "    def __init__(self, audio_file, *args,**kwargs):\n",
    "        pyglet.window.Window.__init__(self, *args,**kwargs)\n",
    "        self.audio_file = audio_file\n",
    "\n",
    "    def on_draw(self):\n",
    "        print('Sonifying data...')\n",
    "        print('Close pop-up window to stop playback and exit.')\n",
    "        sys.stdout.flush()\n",
    "        self.make_sound()\n",
    "\n",
    "    def make_sound(self):\n",
    "        source = pyglet.media.load(self.audio_file, streaming=False)\n",
    "        source.play()"
   ]
  },
  {
   "cell_type": "code",
   "execution_count": 4,
   "metadata": {
    "collapsed": false
   },
   "outputs": [],
   "source": [
    "## This is the class defines object that will serve as primary interface for user of this package\n",
    "\n",
    "class Conductor:\n",
    "    \"\"\"\n",
    "    Sonify data and play resultant song. \n",
    "    \"\"\"\n",
    "    \n",
    "    def __init__(self, soundscape):\n",
    "        self.soundscape = soundscape\n",
    "        \n",
    "    def play(self):\n",
    "        \n",
    "        soundscapes = {'A': 'sound-files/Stable_A_16_NZD.wav', \n",
    "                       'B': 'sound-files/Stable_B_16_NZD.wav'}\n",
    "        \n",
    "        sound_window = SoundWindow(soundscapes[self.soundscape])\n",
    "        pyglet.app.run()"
   ]
  },
  {
   "cell_type": "markdown",
   "metadata": {
    "collapsed": true
   },
   "source": [
    "## Try playing sounds"
   ]
  },
  {
   "cell_type": "code",
   "execution_count": 13,
   "metadata": {
    "collapsed": false
   },
   "outputs": [
    {
     "name": "stdout",
     "output_type": "stream",
     "text": [
      "Sonifying data...\n",
      "Close pop-up window to stop playback and exit.\n"
     ]
    }
   ],
   "source": [
    "test1 = Conductor('A')\n",
    "test1.play()"
   ]
  },
  {
   "cell_type": "code",
   "execution_count": 12,
   "metadata": {
    "collapsed": false
   },
   "outputs": [
    {
     "name": "stdout",
     "output_type": "stream",
     "text": [
      "Sonifying data...\n",
      "Close pop-up window to stop playback and exit.\n"
     ]
    }
   ],
   "source": [
    "test2 = Conductor('B')\n",
    "test2.play()"
   ]
  },
  {
   "cell_type": "markdown",
   "metadata": {
    "collapsed": false
   },
   "source": [
    "## Test"
   ]
  },
  {
   "cell_type": "code",
   "execution_count": null,
   "metadata": {
    "collapsed": true
   },
   "outputs": [],
   "source": []
  }
 ],
 "metadata": {
  "kernelspec": {
   "display_name": "Python [py36]",
   "language": "python",
   "name": "Python [py36]"
  },
  "language_info": {
   "codemirror_mode": {
    "name": "ipython",
    "version": 3
   },
   "file_extension": ".py",
   "mimetype": "text/x-python",
   "name": "python",
   "nbconvert_exporter": "python",
   "pygments_lexer": "ipython3",
   "version": "3.6.2"
  }
 },
 "nbformat": 4,
 "nbformat_minor": 0
}
