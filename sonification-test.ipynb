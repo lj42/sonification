{
 "cells": [
  {
   "cell_type": "markdown",
   "metadata": {},
   "source": [
    "What I want to be able to do is create an object that ingests data in a dataframe, allows you to choose a couple of arguments for the type of sound you want (a _template_??), and then play back the sound as a callable method."
   ]
  },
  {
   "cell_type": "code",
   "execution_count": 4,
   "metadata": {
    "collapsed": false
   },
   "outputs": [],
   "source": [
    "import numpy as np\n",
    "import pandas as pd\n",
    "\n",
    "import pyglet"
   ]
  },
  {
   "cell_type": "code",
   "execution_count": 5,
   "metadata": {
    "collapsed": false
   },
   "outputs": [],
   "source": [
    "palettes = {'A': 'sound-files/Stable_A_16_NZD.wav', \n",
    "            'B': 'sound-files/Stable_B_16_NZD.wav'}"
   ]
  },
  {
   "cell_type": "code",
   "execution_count": 6,
   "metadata": {
    "collapsed": false
   },
   "outputs": [],
   "source": [
    "class SoundDisplay():\n",
    "    \"\"\"\n",
    "    Object that ingests data and produces sound for auditory consumption.\n",
    "    \"\"\"\n",
    "    \n",
    "    def __init__(self, palette):\n",
    "        self.palette = palette\n",
    "        \n",
    "    def play(self):\n",
    "        \n",
    "        ## Play background sound using pyglet\n",
    "        \n",
    "        background_sound = pyglet.media.load(palettes[self.palette], streaming=False)\n",
    "        background_sound.play()\n",
    "        \n",
    "        pyglet.app.run()"
   ]
  },
  {
   "cell_type": "code",
   "execution_count": 7,
   "metadata": {
    "collapsed": true
   },
   "outputs": [],
   "source": [
    "test = SoundDisplay('A')"
   ]
  },
  {
   "cell_type": "code",
   "execution_count": null,
   "metadata": {
    "collapsed": false
   },
   "outputs": [],
   "source": [
    "test.play()"
   ]
  },
  {
   "cell_type": "code",
   "execution_count": null,
   "metadata": {
    "collapsed": false
   },
   "outputs": [],
   "source": []
  }
 ],
 "metadata": {
  "kernelspec": {
   "display_name": "Python [py36]",
   "language": "python",
   "name": "Python [py36]"
  },
  "language_info": {
   "codemirror_mode": {
    "name": "ipython",
    "version": 3
   },
   "file_extension": ".py",
   "mimetype": "text/x-python",
   "name": "python",
   "nbconvert_exporter": "python",
   "pygments_lexer": "ipython3",
   "version": "3.6.2"
  }
 },
 "nbformat": 4,
 "nbformat_minor": 0
}
