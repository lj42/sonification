{
 "cells": [
  {
   "cell_type": "markdown",
   "metadata": {},
   "source": [
    "References:\n",
    "* https://pythonhosted.org/pyglet/programming_guide/controlling_playback.html"
   ]
  },
  {
   "cell_type": "markdown",
   "metadata": {},
   "source": [
    "## Set Things Up"
   ]
  },
  {
   "cell_type": "code",
   "execution_count": 1,
   "metadata": {
    "collapsed": false
   },
   "outputs": [],
   "source": [
    "## Import all the things\n",
    "\n",
    "import pyglet\n",
    "import time\n",
    "import sys\n",
    "import numpy as np\n",
    "import pandas as pd"
   ]
  },
  {
   "cell_type": "markdown",
   "metadata": {},
   "source": [
    "## Code to play sound"
   ]
  },
  {
   "cell_type": "markdown",
   "metadata": {},
   "source": [
    "Popup window will open when code is executed. When you close window, sound will stop."
   ]
  },
  {
   "cell_type": "code",
   "execution_count": 18,
   "metadata": {
    "collapsed": false
   },
   "outputs": [],
   "source": [
    "def play_background(audio_file):\n",
    "    \"\"\"\n",
    "    Play the background song\n",
    "    \n",
    "    Args: \n",
    "        audio_file (str): File path of WAV audio file.\n",
    "    \"\"\"\n",
    "    \n",
    "    # Instantiate player\n",
    "    # Remove any preexisting audio from queue\n",
    "    \n",
    "    global player\n",
    "    \n",
    "    try:\n",
    "        player\n",
    "    except NameError: player = None\n",
    "\n",
    "    if player is None:\n",
    "        player = pyglet.media.Player()\n",
    "    else:\n",
    "        player.next_source()\n",
    "    \n",
    "    ## Add new audio file to queue\n",
    "\n",
    "    source = pyglet.media.load(audio_file, streaming=False)\n",
    "\n",
    "    player.queue(source) \n",
    "    player.play()"
   ]
  },
  {
   "cell_type": "code",
   "execution_count": 19,
   "metadata": {
    "collapsed": false
   },
   "outputs": [],
   "source": [
    "class Conductor:\n",
    "    \"\"\"\n",
    "    Class that ingests and sonifies data.\n",
    "    \"\"\"\n",
    "\n",
    "    def __init__(self, data):\n",
    "        self.data = data\n",
    "    \n",
    "    def background(self, background):\n",
    "        \"\"\" Select genre of music to use for sonification. \"\"\"\n",
    "        \n",
    "        self.background = background\n",
    "    \n",
    "    def ding(self, cols):\n",
    "        \"\"\" Assign columns for DINGS. \"\"\"\n",
    "        \n",
    "        self.ding_cols = cols\n",
    "    \n",
    "    def play(self):\n",
    "        \"\"\" Sonify and play data. \"\"\"\n",
    "        \n",
    "        window = pyglet.window.Window()\n",
    "        play_background(self.background)\n",
    "        pyglet.app.run()"
   ]
  },
  {
   "cell_type": "markdown",
   "metadata": {},
   "source": [
    "Test..."
   ]
  },
  {
   "cell_type": "code",
   "execution_count": 20,
   "metadata": {
    "collapsed": false
   },
   "outputs": [],
   "source": [
    "dat = pd.read_csv('data/intrusion_detection.csv')\n",
    "\n",
    "test = Conductor(dat)\n",
    "test.background('sound-files/Yellow_16_NZD.wav')\n",
    "test.play()"
   ]
  },
  {
   "cell_type": "markdown",
   "metadata": {
    "collapsed": false
   },
   "source": [
    "## Code to loop through data frame"
   ]
  },
  {
   "cell_type": "markdown",
   "metadata": {},
   "source": [
    "I want to loop through each line of dataframe to:\n",
    "* Decide whether to play DING\n",
    "* Have a scrolling display in popup window"
   ]
  },
  {
   "cell_type": "code",
   "execution_count": 10,
   "metadata": {
    "collapsed": false,
    "scrolled": true
   },
   "outputs": [],
   "source": [
    "def loop_rows(df):\n",
    "    \"\"\"\n",
    "    Loop through dataframe, row-by-row. Pause for 1.5 seconds between rows.\n",
    "    \"\"\"\n",
    "\n",
    "    for i in range(df.shape[0]):\n",
    "        time.sleep(1.5)\n",
    "        print(str(df.iloc[i].to_frame().T))"
   ]
  },
  {
   "cell_type": "code",
   "execution_count": 1,
   "metadata": {
    "collapsed": true
   },
   "outputs": [],
   "source": []
  },
  {
   "cell_type": "code",
   "execution_count": null,
   "metadata": {
    "collapsed": true
   },
   "outputs": [],
   "source": []
  }
 ],
 "metadata": {
  "kernelspec": {
   "display_name": "Python [py36]",
   "language": "python",
   "name": "Python [py36]"
  },
  "language_info": {
   "codemirror_mode": {
    "name": "ipython",
    "version": 3
   },
   "file_extension": ".py",
   "mimetype": "text/x-python",
   "name": "python",
   "nbconvert_exporter": "python",
   "pygments_lexer": "ipython3",
   "version": "3.6.2"
  }
 },
 "nbformat": 4,
 "nbformat_minor": 0
}
