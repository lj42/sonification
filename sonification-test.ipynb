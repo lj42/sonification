{
 "cells": [
  {
   "cell_type": "markdown",
   "metadata": {
    "collapsed": true
   },
   "source": [
    "This Jupyter notebook contains code for the **datasong** project. "
   ]
  },
  {
   "cell_type": "markdown",
   "metadata": {},
   "source": [
    "## Set things up"
   ]
  },
  {
   "cell_type": "code",
   "execution_count": 1,
   "metadata": {
    "collapsed": false
   },
   "outputs": [],
   "source": [
    "## Import all the things\n",
    "\n",
    "import pyglet\n",
    "import pandas as pd\n",
    "from tabulate import tabulate"
   ]
  },
  {
   "cell_type": "markdown",
   "metadata": {},
   "source": [
    "## Code to play sound"
   ]
  },
  {
   "cell_type": "markdown",
   "metadata": {},
   "source": [
    "Popup window will open when code is executed. When you close window, sound will stop."
   ]
  },
  {
   "cell_type": "code",
   "execution_count": 2,
   "metadata": {
    "collapsed": false
   },
   "outputs": [],
   "source": [
    "def launch_window(data, clock, met):\n",
    "    \"\"\" Launches window and displays content. \n",
    "    \n",
    "    Args:\n",
    "        data: Pandas DataFrame\n",
    "        clock: Pyglet clock object\n",
    "        met: Metronome object        \n",
    "    \"\"\"\n",
    "    \n",
    "    window = pyglet.window.Window(900, 500, caption='datasong Sound Player')\n",
    "    \n",
    "    # Display top label\n",
    "    \n",
    "    row_col_count = 'DataFrame: {row} x {column}'.format(row=data.shape[0], column=data.shape[1])\n",
    "    \n",
    "    label1 = pyglet.text.Label('Don\\'t Panic', font_name='Whitney', font_size=18,\n",
    "                              x=window.width//2, y=window.height//2,\n",
    "                              anchor_x='center', anchor_y='bottom')\n",
    "    \n",
    "    label2 = pyglet.text.Label(row_col_count, font_name='Whitney', font_size=13,\n",
    "                              x=window.width//2, y=window.height//1.1,\n",
    "                              anchor_x='center', anchor_y='bottom')\n",
    "    \n",
    "    @window.event\n",
    "    def on_draw():\n",
    "        window.clear()\n",
    "        label1.draw()\n",
    "    \n",
    "    # Display streaming rows of data\n",
    "    \n",
    "    def update_screen(dt, data, met):\n",
    "        \"\"\" Update window content with streaming data. \"\"\"\n",
    "        \n",
    "        current_index = met.next_beat()\n",
    "        \n",
    "        if current_index <= 14:\n",
    "            index_list = list(range(0,current_index+1))\n",
    "\n",
    "        if current_index > 14:\n",
    "            index_list = list(range(current_index-14,current_index+1))\n",
    "        \n",
    "        rows_to_tabulate = [data.iloc[i].tolist() for i in index_list]      \n",
    "    \n",
    "        data_text = tabulate(rows_to_tabulate, headers = dat.columns.tolist())\n",
    "\n",
    "        data_label = pyglet.text.Label(data_text,\n",
    "                              font_name='Ubuntu Mono',\n",
    "                              font_size=10, width=700, x=window.width//2, y=window.height//1.5,\n",
    "                              anchor_x='center', anchor_y='center', multiline=True)\n",
    "\n",
    "        @window.event\n",
    "        def on_draw():\n",
    "            window.clear()\n",
    "            label2.draw()\n",
    "            data_label.draw()\n",
    "    \n",
    "    clock.schedule_interval(update_screen, 2, data, met)\n",
    "        \n",
    "    @window.event\n",
    "    def on_close():\n",
    "        clock.unschedule(update)"
   ]
  },
  {
   "cell_type": "code",
   "execution_count": 3,
   "metadata": {
    "collapsed": false
   },
   "outputs": [],
   "source": [
    "def play_background(audio_file):\n",
    "    \"\"\" Play the background song. \"\"\"\n",
    "    \n",
    "    # Instantiate player; remove any preexisting audio from queue\n",
    "\n",
    "    global bplayer\n",
    "    \n",
    "    try:\n",
    "        bplayer\n",
    "    except NameError: bplayer = None\n",
    "\n",
    "    if bplayer is None:\n",
    "        bplayer = pyglet.media.Player()\n",
    "    else:\n",
    "        bplayer.delete()\n",
    "    \n",
    "    # Add new audio file to queue\n",
    "\n",
    "    bsource = pyglet.media.load(audio_file, streaming=False)\n",
    "\n",
    "    bplayer.queue(bsource) \n",
    "    bplayer.play()"
   ]
  },
  {
   "cell_type": "code",
   "execution_count": 4,
   "metadata": {
    "collapsed": false
   },
   "outputs": [],
   "source": [
    "def play_ding(audio_file):\n",
    "    \"\"\" Play DING. \"\"\"\n",
    "\n",
    "    # Instantiate player; remove any preexisting audio from queue\n",
    "    \n",
    "    global dplayer\n",
    "    \n",
    "    try:\n",
    "        dplayer\n",
    "    except NameError: dplayer = None\n",
    "\n",
    "    if dplayer is None:\n",
    "        dplayer = pyglet.media.Player()\n",
    "    else:\n",
    "        dplayer.delete()\n",
    "        \n",
    "    # Add new audio file to queue\n",
    "        \n",
    "    dsource = pyglet.media.load(audio_file, streaming=False)\n",
    "    dplayer.queue(dsource)\n",
    "    dplayer.play()"
   ]
  },
  {
   "cell_type": "code",
   "execution_count": 5,
   "metadata": {
    "collapsed": false
   },
   "outputs": [],
   "source": [
    "class Metronome:\n",
    "    \"\"\" Class that remembers how many beats have elapsed since object instantiation.\n",
    "    \n",
    "    Attributes:\n",
    "        beats_elapsed (int): Number of beats elapsed.\n",
    "    \"\"\"\n",
    "    \n",
    "    def __init__(self):\n",
    "        self.beats_elapsed = -1\n",
    "        \n",
    "    def next_beat(self):\n",
    "        self.beats_elapsed += 1\n",
    "        return self.beats_elapsed"
   ]
  },
  {
   "cell_type": "code",
   "execution_count": 6,
   "metadata": {
    "collapsed": false
   },
   "outputs": [],
   "source": [
    "def update(dt, data, col, met):\n",
    "    \"\"\" Runs at regular intervals within event loop to produce DING. \n",
    "    \n",
    "    Args:\n",
    "        dt: This needs to be here for clock.schedule_update() to work\n",
    "        data: Pandas DataFrame\n",
    "        col: Column to play DINGS\n",
    "        met: Metronome object\n",
    "    \"\"\"\n",
    "    \n",
    "    current_index = met.next_beat()\n",
    "    \n",
    "    if data[col].iloc[current_index] == 1:\n",
    "        play_ding('sound-files/DING_StableB_01_1_NZD.wav')"
   ]
  },
  {
   "cell_type": "code",
   "execution_count": 7,
   "metadata": {
    "collapsed": false
   },
   "outputs": [],
   "source": [
    "class Conductor:\n",
    "    \"\"\"\n",
    "    Class that ingests and sonifies data.\n",
    "    \"\"\"\n",
    "\n",
    "    def __init__(self, data):\n",
    "        self.data = data\n",
    "        \n",
    "        if 'DataFrame' not in str(type(self.data)): \n",
    "            raise Exception('Not a pandas DataFrame.')\n",
    "    \n",
    "    def background(self, background):\n",
    "        \"\"\" Select genre of music to use for sonification. \"\"\"\n",
    "        \n",
    "        self.background = background\n",
    "    \n",
    "    def ding(self, col):\n",
    "        \"\"\" Assign columns for DINGS. \"\"\"\n",
    "        \n",
    "        self.ding_col = col\n",
    "    \n",
    "        \n",
    "    def play(self):\n",
    "        \"\"\" Sonify and play data. \"\"\"\n",
    "        \n",
    "        # Print text to console\n",
    "        \n",
    "        print('Sonifying data...')\n",
    "        print('Close sound player to stop playback and exit.')\n",
    "        \n",
    "        # Play background\n",
    "        \n",
    "        play_background(self.background)\n",
    "        \n",
    "        # Loop through DataFrame - play dings     \n",
    "        \n",
    "        metronome_ding = Metronome()\n",
    "        clock = pyglet.clock\n",
    "        clock.schedule_interval(update, 2, self.data, self.ding_col, metronome_ding)\n",
    "        \n",
    "        # Launch window and play sound\n",
    "        \n",
    "        metronome_screen = Metronome()\n",
    "        launch_window(self.data, clock, metronome_screen)\n",
    "        \n",
    "        pyglet.app.run()"
   ]
  },
  {
   "cell_type": "markdown",
   "metadata": {},
   "source": [
    "## Testing Sandbox"
   ]
  },
  {
   "cell_type": "markdown",
   "metadata": {},
   "source": [
    "Run code below to test."
   ]
  },
  {
   "cell_type": "code",
   "execution_count": null,
   "metadata": {
    "collapsed": false
   },
   "outputs": [
    {
     "name": "stdout",
     "output_type": "stream",
     "text": [
      "Sonifying data...\n",
      "Close sound player to stop playback and exit.\n"
     ]
    }
   ],
   "source": [
    "dat = pd.read_csv('data/intrusion_detection.csv')\n",
    "dat = dat[['timestamp', 'counter(mins)', 'Dos', 'scan44', 'scan11', 'nerisbotnet', 'blacklist']]\n",
    "\n",
    "test = Conductor(dat)\n",
    "test.background('sound-files/Stable_A_16_NZD.wav')\n",
    "test.ding('blacklist')\n",
    "test.play()"
   ]
  },
  {
   "cell_type": "code",
   "execution_count": null,
   "metadata": {
    "collapsed": false
   },
   "outputs": [],
   "source": []
  }
 ],
 "metadata": {
  "kernelspec": {
   "display_name": "Python [py36]",
   "language": "python",
   "name": "Python [py36]"
  },
  "language_info": {
   "codemirror_mode": {
    "name": "ipython",
    "version": 3
   },
   "file_extension": ".py",
   "mimetype": "text/x-python",
   "name": "python",
   "nbconvert_exporter": "python",
   "pygments_lexer": "ipython3",
   "version": "3.6.2"
  }
 },
 "nbformat": 4,
 "nbformat_minor": 0
}
