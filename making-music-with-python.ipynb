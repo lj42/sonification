{
 "cells": [
  {
   "cell_type": "markdown",
   "metadata": {},
   "source": [
    "This Jupyter notebook documents my attempts to mess around with code to generate sound (and, hopefully, music!).\n",
    "\n",
    "This notebook uses Python 3. `music21` does not like Python 2.7.\n",
    "\n",
    "### Reference Material\n",
    "\n",
    "* [iPython Audio](https://musicinformationretrieval.com/ipython_audio.html)\n",
    "* [Pyknon](http://kroger.github.io/pyknon/)\n",
    "* [Making Music and Embedding Sounds in Jupyter Notebooks](https://blog.ouseful.info/2016/09/13/making-music-and-embedding-sounds-in-jupyter-notebooks/)"
   ]
  },
  {
   "cell_type": "markdown",
   "metadata": {},
   "source": [
    "## Experiment: Making music using `music21`"
   ]
  },
  {
   "cell_type": "code",
   "execution_count": 13,
   "metadata": {
    "collapsed": false
   },
   "outputs": [],
   "source": [
    "## Scientific computing\n",
    "\n",
    "import numpy as np\n",
    "import pandas as pd\n",
    "import matplotlib.pyplot as plt"
   ]
  },
  {
   "cell_type": "code",
   "execution_count": 5,
   "metadata": {
    "collapsed": true
   },
   "outputs": [],
   "source": [
    "## Audio \n",
    "## (Order in which these packages are imported matters.)\n",
    "\n",
    "import librosa\n",
    "import IPython.display as ipd\n",
    "from pyknon.genmidi import Midi\n",
    "from pyknon.music import NoteSeq, Note\n",
    "from music21 import midi"
   ]
  },
  {
   "cell_type": "code",
   "execution_count": 2,
   "metadata": {
    "collapsed": false
   },
   "outputs": [],
   "source": [
    "melody = [10, 10, 11, 13, 13, 1, 0, 8, 4, 3]\n",
    "\n",
    "def makeMidi(notes, name, filename = 'tune1.midi'):\n",
    "    notes1 = map(Note, notes)\n",
    "    midi = Midi(1, tempo = 90)\n",
    "    midi.seq_notes(notes1, track = 0)\n",
    "    midi.write(filename)\n",
    "    \n",
    "makeMidi(melody, 'Melody 1')"
   ]
  },
  {
   "cell_type": "code",
   "execution_count": 3,
   "metadata": {
    "collapsed": false
   },
   "outputs": [],
   "source": [
    "def playMidi(filename):\n",
    "    '''\n",
    "    This function plays MIDI files.\n",
    "    \n",
    "    Args:\n",
    "        filename: Name of your file\n",
    "    '''\n",
    "    \n",
    "    mf = midi.MidiFile()\n",
    "    mf.open(filename)\n",
    "    mf.read()\n",
    "    mf.close()\n",
    "    s = midi.translate.midiFileToStream(mf)\n",
    "    s.show('midi')"
   ]
  },
  {
   "cell_type": "code",
   "execution_count": 4,
   "metadata": {
    "collapsed": false
   },
   "outputs": [
    {
     "data": {
      "text/html": [
       "\n",
       "                <div id='midiPlayerDiv97'></div>\n",
       "                <link rel=\"stylesheet\" href=\"//cuthbertLab.github.io/music21j/css/m21.css\"\n",
       "                    type=\"text/css\" />\n",
       "                <script>\n",
       "                require.config({\n",
       "                    paths: {'music21': '//cuthbertLab.github.io/music21j/src/music21'}\n",
       "                });\n",
       "                require(['music21'], function() {\n",
       "                               mp = new music21.miditools.MidiPlayer();\n",
       "                               mp.addPlayer('#midiPlayerDiv97');\n",
       "                               mp.base64Load('data:audio/midi;base64,TVRoZAAAAAYAAQABBABNVHJrAAAAeQD/AwVQaWFubwDAAADgAEAAwAAA/1EDCiwrAJBGZIgAgEYAAJBGZIgAgEYAAJBHZIgAgEcAAJBJZIgAgEkAAJBJZIgAgEkAAJA9ZIgAgD0AAJA8ZIgAgDwAAJBEZIgAgEQAAJBAZIgAgEAAAJA/ZIgAgD8AiAD/LwA=');\n",
       "                        });\n",
       "                </script>"
      ],
      "text/plain": [
       "<IPython.core.display.HTML object>"
      ]
     },
     "metadata": {},
     "output_type": "display_data"
    }
   ],
   "source": [
    "playMidi(\"tune1.midi\")"
   ]
  },
  {
   "cell_type": "markdown",
   "metadata": {
    "collapsed": true
   },
   "source": [
    "## Experiment: Making sounds using IPython modules"
   ]
  },
  {
   "cell_type": "markdown",
   "metadata": {},
   "source": [
    "See:\n",
    "http://ipython-books.github.io/117-creating-a-sound-synthesizer-in-the-notebook/"
   ]
  },
  {
   "cell_type": "code",
   "execution_count": 9,
   "metadata": {
    "collapsed": true
   },
   "outputs": [],
   "source": [
    "## Scientific computing\n",
    "\n",
    "import numpy as np\n",
    "import pandas as pd\n",
    "import matplotlib.pyplot as plt\n",
    "\n",
    "from IPython.display import (\n",
    "    Audio, display, clear_output)\n",
    "from ipywidgets import widgets\n",
    "from functools import partial\n",
    "%matplotlib inline"
   ]
  },
  {
   "cell_type": "code",
   "execution_count": 6,
   "metadata": {
    "collapsed": false
   },
   "outputs": [],
   "source": [
    "rate = 16000.\n",
    "duration = .25\n",
    "t = np.linspace(\n",
    "    0., duration, int(rate * duration))"
   ]
  },
  {
   "cell_type": "code",
   "execution_count": 7,
   "metadata": {
    "collapsed": true
   },
   "outputs": [],
   "source": [
    "def synth(f):\n",
    "    x = np.sin(f * 2. * np.pi * t)\n",
    "    display(Audio(x, rate=rate, autoplay=True))"
   ]
  },
  {
   "cell_type": "code",
   "execution_count": 8,
   "metadata": {
    "collapsed": false
   },
   "outputs": [
    {
     "data": {
      "text/html": [
       "\n",
       "                <audio controls=\"controls\" autoplay=\"autoplay\">\n",
       "                    <source src=\"data:audio/wav;base64,UklGRmQfAABXQVZFZm10IBAAAAABAAEAgD4AAAB9AAACABAAZGF0YUAfAAAAAAIWXituP5pRWGEwbr93vH37f2l+E3khcNhjllTOQgkv3RnrA93tWNgCxHWxP6Hck7KJD4MkgAmBtoUIjsCZg6jiuVfNT+Iq+D8O6SOBOGlLE1z+acB0CXyef2d/ZHuzc5BoT1peSTw2fSG/C6j1398Ly8u3sqZCmOmM/oS+gEiAoIOuijqV9KJ1sz3Gvtpb8G4GUhxdMfBEdVZmZVJx3nnIfup/Pn3WduNssl+nTzw9/iiHE339hedH0ma+eqwLnY6QZIfSgQKAAoLEhxuRv51RrVq/UNOb6Jj+nxQKKjQ+g1BtYHdtPnd3ffN/n36Gec1wuGSjVQBEVzA9G1MFQu+v2UHFk7Izop+UPopfgzeA3YBOhWaN6Jh9p7W4Dczx4ML22QyOIjw3RUoXWzJpK3Sue4F/iH/Be0t0XmlNW4RKgjfZIiYND/c84VTM9ri1pxaZiI1kheaAMoBNgx+KdZT+oVWy/MRm2fXuBgXyGhAwv0NqVYlkqXBueZR+9X+GfVp3n22gYL9Qdz5TKusU5f7n6JjTnb+MrfGdQZHehxCCAoDFgUqHaJDanD+sJL7/0TnnMP07E7Uo+DxqT35fumy5di596H/SfvV5dnGVZa1WMUWkMZ0cuwao8AjbgsazsymjZJXNirODTYC2gOmEx4wUmHqmi7fFypTfW/VyCzMh9jUeSRhaY2iSc097X3+kfxt84HQpakhcqEvGODMkjA53+Jvins0iuruo7pkrjs2FE4EhgP6ClYmzkwuhOLG9ww/Yke2eA5EZwS6MQlxUqGP8b/p4XX78f8t92ndXboph1lGxP6YrTxZNAErq69TVwKGu2p74kV2IUoIHgIuB1Ia6j/ebMKvwvK/Q2OXI+9cRXye6O05OjV76azB24XzYfwF/YXobcm9mtVdfRvAy/B0jCA7yYdzFx9W0I6Qull+LC4RogJKAiIQsjESXeqVjtn7JON708wsK1h+vNPVHF1mRZ/Vy7Ho6f71/cnxxdfFqQV3JTAg6jCXyD9/5+uPqzlG7xKnJmtKOOoZDgROAsoIOifWSG6AdsIDCudYs7DYCMBhxLVdBS1PEYkxvgnghfv5/C35XeAxvcmLqUulA+CyxF7UBres/1hDCua/Gn7GS34iYgg+AVYFihg6PGJskqr67Yc935F/6cRAHJns6ME2ZXTdrpHWQfMV/LH/IerxyRWe6WItHOTRaH4sJdPO83QnJ+rUfpfqW9otmhIaAcoArhJWLdpZ9pD61Ocjd3I3ypAh5HmYzykYTWLxmVXKGehF/0n/EfP91tWs2XuhNSDvkJlcRR/ta5TjQg7zQqqebfI+rhneBCYBrgouIOpIunwWvRcFk1cjqzQDNFh8sIEA5Ut5hmG4HeOJ9/X9Ifs94vW9XY/tTHkJJLhMZHQMR7ZTXTMPTsLWgb5NkieOCG4AkgfSFZo48mhqpjroVzhjj9/gMD64kOTkPTKFccWoUdTt8rn9Sfyx7WnMZaL1ZtEiCNbcg8grb9BjfUMohtx+mypePjMaEqIBWgNKDAYuslYKjGrT1xoPbJ/E8BxodGzKdRQxX42WxcRx6437jfxN9iHZ2bChfBU+HPDsovBKv/Lvmh9G2vd6riZwqkCCHsIEDgCeCC4iCkUSe760MwBHUZelm/2oVzCroPiNR9GDhbYh3n334f4F+RXlrcDlkClVSQ5gvdBqGBHbu69iKxO+xp6EvlO2JMYMsgPaAiYXCjWOZE6hhucrMueGQ96YNVSP2N+xKp1unaYF04nuSf3V/jHv1c+lovFrcScg2EiJZDEL2deCYy0u4IaecmC2NKYXPgD6AfINwiuWUi6L5srPFKtrC79QFuxvOMG1EAlYIZQpxrnmyfvB/XX0PdzRtGGAfUMM9kCkgFBf+HOjY0uu+76xtnduQmIfsgQGA54GPh86QXJ3crNW+v9ID6P79BxR4Ka09C1AHYCZtBXdYfe9/tn62eRZxF2UWVoNE5jDUG+4F2+9D2srFDrOcovOUeoqCg0CAzIAihSGNjZgOpzW4gMtc4Cj2Pwz6IbE2x0mqWtpo6nOGe3N/lH/oe4t0tWm5WwFLDThtI78NqffS4eHMdrklqHKZzo2QhfmAKoArg+SJIZSWoduxc8TS2FzubARbGoAvPEP2VClkX3A8eX1++H+kfZF37m0FYTdR/j7kKoQVgP9/6SnUIsADrlSej5EUiCyCBICsgReHHZB4nMuroL1v0aHmlfyiEiIocDzxThdfaGx/dg194n/nfiR6vXHzZR9XskUyMjMdVgdB8ZzbDMcvtJSjupULi9iDWICmgL+EhIy7lwymDLc4yv/ewfTYCp4gajWfSKpZCmhPcyV7UH+vf0F8H3V/arNcJExQOcckJQ8R+THjLM6kui2pTJpyjvuFJ4EagN2CW4lhk6SgvrA1w3zX+OwEA/oYMS4IQudTR2Oxb8d4RH79f+d9EHilbu5hTFI3QDcs5xbnAOLqfdVcwRmvP59HkpSIcIIKgHSBo4Zwj5ebvaptvCDQQeUt+z4RyyYxO9RNJV6na/V1vnzQfxR/jXphcstmJljgRn0zkh69CKfy9txQyFK1j6SFlp+LMYR0gISAYITri+uWDaXltfLIo91a83EJQR8iNHVHqFg2Z7FywXopf8Z/lXyudUVrql1ETZE6ICaLEHn6keR5z9S7N6oomxqPaoZZgQ6Ak4LViKSStZ+lr/nBJ9aU65sBmBfgLNJA1lJiYv9uTngHfv5/Jn6LeFhv1WJfU21BiS1JGFACRuzR1pfCMbAsoAKTF4m4ghSAQIEyhsaOuZqxqTy7087h48X52A9zJfE5tUwvXeNqZ3VsfLt/PX/0egFzoGcpWQtIxjTvHyUKDvRR3pXJeLaMpVKXN4yPhJSAZoAEhFWLH5YRpMC0rsdJ3PTxCQjjHdgySUajV19mD3JZev5+2X/mfDp2CGyeXmNO0Tt3J/AR4fvx5cfQBr1Eqwecxo/dho+BBoBNglSI6pHJno2uv8DT1DDqMwA1Fo4rmz/CUXphSm7Rd8Z9+39hfgJ5CHC4Y29UokLZLqoZuAOq7SfY1MNMsR2hwZOfiQODIoAPgcWFII7fmamoDbqHzYHiXfhyDhokrziTSzZcG2rWdBV8on9if1Z7nXNyaCtaM0kONkwhjAt19a3f3Mqgt42mI5jSjPCEuIBLgK2DwopWlRijnrNrxu/ajvCiBoQcjDEbRZtWhWVqce15z37pfzN9wnbIbI9ffk8PPc0oVRNK/VLnF9I6vlOs6px1kFOHyYECgAuC1oc0keCdea2Hv4DTzejM/tIUOiphPqtQj2CRbVB3gX30f5h+dnm1cJhkfVXVQygwCxsgBQ/vftkTxWqyEKKDlCmKU4M0gOOAXIV9jQeZo6fguDzMI+H29gwNwCJrN29KO1tPaUF0u3uFf4N/tHs2dEFpKVtaSlQ3pyLyDNz2CuElzMu4kKf4mHGNVYXggDWAWYM0ipGUIaJ+sirFl9ko7zoFJBs/MOtDkFWoZMFwfnmcfvR/fH1Hd4RtfmCXUEo+Iiq5FLL+tOho03C/Za3QnSeRzYcHggKAzYFbh4KQ+pxmrFC+L9Jr52P9bhPmKCU9kk+hX9VszHY4fep/y37leV5xdmWIVgVFdTFrHIgGdPDW2lTGibMGo0iVuIqng0qAu4D3hN6MM5ifpra388rG3471pQtlISU2SEk9WoFoqHNde2R/oH8PfMt0DGolXH5LmDgCJFkORPho4m/N97mWqM+ZFI6+hQyBI4AJg6iJzpMuoWCx68NA2MPt0gPDGfEuuEKDVMhjFXAKeWV++3/Bfch3PW5pYa5RhD92KxwWGQAX6rvUqMB6rrie3ZFKiEmCBoCTgeWG0o8YnFerHL3f0Arm+/sKEpAn6Dt3TrBeFmxEdux823/6flF6BHJQZpBXNEbAMsod8Afa8TDcl8estP+jEZZKi/6DZICXgJaEQoxhl5+ljbasyWreJ/Q+Cggg3jQgSDxZr2cMc/t6QH+6f2Z8XXXUah1doEzaOVslvw+r+cfju84mu56pqpq6jiqGPIEVgL2CIYkQkz2gRbCuwurWX+xpAmIYoS2EQXNT5WJlb5N4Kn7+fwJ+RXjyblFiwlK8QMgsfheCAXrrDtbjwZGvpJ+XksyIjoIOgF2BcoYnjzibSqrqu5HPquST+qUQOCaoOllNvF1Ta7h1m3zIfyZ/unqmcidnlVhgRwo0KB9XCUHzit3byNC1+6TdluCLWYSBgHaAOISqi5OWoaRntWfID93B8tcIqx6VM/VGOFjaZmxylXoXf89/uXzrdZlrE16/TRs7syYkERP7J+UI0Fe8qqqHm2SPm4ZwgQqAdYKdiFSSUJ8tr3LBldX76gEBABdPLE1AYFL/YbJuGXjrff5/P36+eKRvN2PUU/JBGS7gGOoC3uxk1x/DqrCToFOTUYnYghmAKoEDhn6OW5pAqbq6RM5K4yv5Pw/gJGc5OUzFXI1qKXVHfLF/TX8ee0Rz+2eYWYpIUzWFIL8KqPTm3iHK97b6payXeYy4hKOAWoDegxWLyZWmo0S0I8e021rxbwdMHUoyyEUyVwJmyXEreup+4H8IfXV2W2wGX9xOWTwKKIkSfPyI5lfRir24q2icEZAPh6eBBIAxgh2InJFlnhauOcBC1Jjpmv+dFf0qFD9LURVh+22ad6l9+X95fjR5U3AZZONUJkNoL0EaUgRD7rrYXcTGsYShE5TaiSWDKYD8gJiF2Y2CmTiojLn5zOvhw/fZDYYjJDgWS8tbxGmWdO97ln9xf39733PLaJhaskmaNuEhJgwP9kPgacsguPumfpgWjRuFyYBBgIiDhYoBla6iIrPhxVva9e8HBu0b/jCZRClWJ2Uicb55uX7uf1N9/HYZbfZf90+WPWAp7RPk/ernp9K/vsisTJ3BkIeH44ECgPCBoYfnkH2dA60Bv/DSNugx/joUqSnaPTNQKWBBbRh3Yn3wf65+pnn+cPhk71VYRLYwohu6BajvEtqcxeWyeaLXlGaKdoM9gNGAMIU4jayYM6dguK/LjeBc9nIMKyLfNvFJzlr3aAB0k3t4f5B/3Ht2dJhplVvXSt83PCOMDXb3oOGyzEu5AKhUmbeNgYXzgC2ANoP3iT2UuaEDsqHEA9mP7p8EjRqwL2hDHVVJZHhwTXmFfvd/mn1/d9Rt42APUdE+tCpRFUz/TOn50/a/260znnWRAogjggOAtIEohzaQmZzyq8y9n9HU5sn81RJTKJ08GU86X4RsknYYfeR/4H4UeqVx1GX5VodFAzIBHSIHDvFq297GBbRwo56V9orLg1SAq4DNhJuM2Jcxpja3Z8ox3/T0DAvPIJk1ykjPWShoZXMze1V/rH81fAp1YmqQXPtLIjmWJPIO3vj/4v3NeboHqSyaW47shSCBHIDogm6JfJPGoOewY8Ot1yvtNwMsGWEuNEIOVGdjym/YeEx+/X/dff53i27NYSVSCkAHLLQWtACv6kzVL8Hxrh2fLJKBiGaCCYB7gbOGiI+3m+OqmLxQ0HPlYftxEf0mXzv9TUdew2sJdsp8038Nf396SXKsZgBYtUZOM2Aeigh08sTcIcgptWukaJaKiySEcICIgG2EAIwJlzKlD7YhydXdjvOkCXMfUTSgR81YVGfIctB6L3/Df4p8mnUpa4ddG01kOu4lWBBG+l7kSs+ouxGqCJsCj1qGUoEQgJ6C6Ii/ktefza8mwlfWxuvPAcoXEC3/QP1Sg2IZb194EH7+fx1+eXg/b7RiOFNBQVktFhgcAhPsoNZqwgmwCqDnkgSJrYISgEeBQobejtma16lnuwLPE+T5+QsQpSUfOt5MUl3/ant1eHy/fzd/5XrqcoJnBVngR5c0vR/xCdrzH95myU62aKU1lyGMgYSPgGqAEYRqizyWNaTqtNzHetwn8j0IFR4HM3RGyFd+ZidyaHoEf9d/23wmdu1rfF46TqM7Rie9Ea77v+WY0Nq8Havnm62PzIaHgQeAV4JmiAWS6561ruzAA9Vj6mYAaBa+K8c/6lGbYWRu43fPffx/WX7xeO9vmGNIVHZCqS54GYQDd+3216fDJLH6oKWTi4n4giCAFoHVhTeO/pnOqDi6ts204pH4pg5MJN04vEtaXDdq63QifKZ/XX9Ie4dzVGgGWglJ3zUaIVgLQfV7363KdrdopgWYvIzihLOAT4C5g9eKc5U7o8ezmcYg28Hw1Qa2HLwxRkXAVqVlgnH9edZ+538ofa92rWxtX1ZP4TycKCITFv0g5+fRDr4srMmcXJBCh8GBAoAVgueHTpEBnqCts7+x0wDp//4FFWsqjj7TULBgrG1jd4t99n+QfmV5nHB5ZFZVqUP4L9ka7QTc7k3Z5cRBsu2hZ5QVikeDMYDpgGuFlI0mmcinC7lrzFXhKfc/DfEimTeZSl9bbWlWdMh7in9/f6d7IHQjaQVbMEolN3Yivwyp9tjg9suguGun2ZhajUaF2oA4gGWDSIqtlESip7JYxcjZW+9tBVYbbzAWRLZVyGTZcI55o37yf3J9NHdpbVxgb1AdPvIphhR+/oLoONNEvz6tr50OkbuH/oECgNaBbYebkBudjax8vl/SnueX/aETFilSPbtPw1/wbN92Q33rf8R+1nlGcVZlYlbaREUxORxVBkHwpdomxmCz46IslaOKmoNGgMCABYX0jFGYxKbgtyLL+N/C9dkLliFUNnNJYVqfaL5zantpf5x/Any2dO9pAVxUS2k40CMmDhD4NuJAzcy5cKiwmfyNr4UGgSWAFIO8ieqTUKGJsRjEcNj27QUE9hkhL+RCqVToYy5wG3ltfvp/t322dyNuSGGGUVg/RSvpFef/5OmK1HzAUq6XnsOROIg/ggWAm4H2huuPOJx9q0i9D9E95i78PRLAJxU8oE7SXjJsWHb3fN1/9H5CeuxxMWZqVwlGkTKYHbwHp/H+22jHgrTbo/SVNYvxg2CAnICjhFiMf5fDpbi228mb3lv0cgo6IA01SkhhWc1nInMJe0V/tn9ZfEh1uGr6XHdMrDkqJYwPePmV44vO+7p4qYqaoo4bhjWBFoDIgjSJK5NfoG6w28Ia15LsnQKVGNEtsEGaUwZjfm+leDN+/n/5fTN42W4wYptSkECYLEwXTgFH697VtsFpr4KffJK5iISCDIBkgYKGP49Ym3CqFbzBz9zkxvrYEGkm1jqCTd9db2vMdad8y38gf6t6j3IIZ3BYNUfbM/YeJAkO81ndrMimtdekv5bKi0yEfYB7gEWEv4uxlsWkkbWVyEDd9PIKCd0exDMgR11Y+WaDcqR6HX/Mf61813V9a/Bdlk3tOoIm8RDg+vXk2M8rvIOqaJtLj4qGaIEMgH+CsIhvknGfVa+fwcbVLus0ATMXgCx5QIdSIGLMbip49X3+fzd+rXiLbxZjrVPGQektrhi2AqvsM9fxwoKwcaA4kz6JzYIXgDGBE4aWjnuaZanlunTOfONe+XIPESWVOWJM6Fyqaj51U3y1f0h/EHsuc91nc1lgSCQ1UyCLCnT0tN7yyc221aWOl2OMqoSegF6A64Mqi+WVyqNttFHH5tuO8aMHfx15MvNFV1chZuBxO3rxft5//Xxhdj9s4160Tiw82SdWEkj8VuYn0V69katInPiP/oafgQWAOoIviLaRhp4+rmXActTL6c3/0BUtK0E/c1E3YRZurHezffp/cX4jeTpw+WO8VPpCOS8PGh8EEO6J2C/EnbFiofiTxokagyeAAoGnhfGNoZldqLe5KM0d4vf3DA63I1I4QEvvW+Fpq3T8e5p/bH9xe8lzrmh0WohJazavIfIL2/UR4DrL9bfXpmCY/4wMhcOARYCUg5mKHZXRokuzD8aN2ijwOwYfHC0xxERPVkdlOnHOecB+7H9Ifel2/mzUX89PaT0vKboTsP2353fSk76hrCudqJB1h9qBAoD5gbKHAZGenSqtLr8g02joZf5sFNkpBz5bUEtgXG0rd2198n+nfpZ55nDYZMlVLESHMG8bhwV17+DZb8W8slaiu5RSimuDOoDXgD+FT43KmFini7jey7/gj/amDF0iDjcbSvNaFWkVdKB7fH+Mf897YXR7aXFbrkqwNwojWQ1D927hg8wgudqnNZmfjXOF7IAwgEKDC4pZlNuhLLLPxDXZwu7TBL8a4C+TQ0NVaWSQcF15jH72f5B9bHe5bcFg51CkPoMqHhUZ/xnpydPJv7StEp5bkfCHGYIDgLyBOYdPkLmcGaz4vc/RBuf8/AgThCjLPEJPXF+fbKV2I33mf9l+BXqOcbRl01ZcRdQxzxzvBtvwOduwxtyzTaOBleGKv4NRgLCA24SxjPaXVqZht5bKYt8o9T8LASHINfRI9FlFaHxzQXtaf6h/KHz1dEZqbFzRS/Q4ZCS/Dqr4zeLOzU664agNmkOO3IUZgR6A84KBiZiT6aAPsZDD3tde7WsDXxmRLmBCNVSIY+Nv6XhUfvx/1H3sd3FurGH9Ud4/1yuBFoAAfOoc1QLBya77nhKSb4hcggiAg4HEhqGP15sKq8S8gNCl5ZT7pBEuJ407JU5qXt9rHHbVfNZ/B39wejJyjmbbV4pGHzMuHlcIQfKT3PPH/7RHpEuWdYsYhGyAjYB6hBaMJpdWpTm2T8kG3sHz2AmkH4A0y0fyWHNn33LeejR/wH9+fIZ1DWtkXfJMNjq9JSUQEvos5BrPfbvqqema6o5KhkqBEYCogvuI2pL5n/WvU8KI1vnrAgL9F0EtK0EkU6RiMm9xeBl+/n8Ufmh4JW+TYhFTFUEoLeQX6QHg63DWPcLhr+ifzJLxiKOCEIBOgVKG9o74mv6pk7syz0XkLPo+ENYlTToHTXVdG2uQdYR8wn8xf9d603JkZ99YtUdoNIsfvgmn8+7dOMkktkSlF5cLjHSEi4BugB6Ef4tZllmkFLUKyKvcWvJwCEceNjOfRu1XnWY+cnd6Cn/Uf898E3bRa1leEU52OxUnihF6+4zlaNCuvPaqx5uVj7uGf4EIgGGCeIgfkgyf3a4YwTTVluqaAJsW7yv0PxFSvGF+bvV32X39f1B+4HjWb3djIlRKQnkuRRlRA0Ttxdd5w/uw2KCKk3iJ7YIdgB2B5IVPjh2a9KhjuuXN5uLE+NkOfSQLOeZLflxUav90Lnyqf1h/OntxczZo4VnfSLA16CAlCw71Sd9+yky3Q6bnl6aM1ISugFKAxYPsio+VX6Pxs8fGUtv08AkH6BzrMXJF5lbEZZpxDHrcfuV/HX2cdpFsS18tT7Q8bCjvEuP87ea30eK9BaypnEOQMYe4gQOAHoL5h2iRIp7HreC/4dMz6TP/OBWcKrs++1DSYMZtdXeVffd/iX5VeYRwWWQwVX1DyC+mGrkEqe4c2bjEGLLKoUuUAYo8gy6A74B6hauNRJntpza5msyH4Vz3cw0jI8c3wkqDW4ppa3TVe45/en+aewp0BmnhWgZK9zZEIowMdfam4MfLdbhGp7uYRI04hdSAO4Bwg1yKyZRnotCyhcX52Y/voQWJG58wQkTcVehk8nCeeat+8X9ofSF3T206YEdQ8D3BKVMUS/5P6AjTF78WrY6d9JCph/WBAoDfgX6HtJA8nbWsqb6P0tDnyv3UE0cpgD3jT+VfC23ydk597X+9fsZ5LnE3ZTxWr0QWMQYcIQYO8HTa+MU3s7+iD5WPio6DQ4DGgBSFC41vmOmmC7hRyyrg9fUMDMghgjadSYZavGjUc3h7bn+Yf/V7oXTSad1bK0s7OJ8j8g3d9wTiEM2huUuokZnljZ+F/4AogB+D0IkGlHOhsrFGxKHYKe44BCgaUS8QQ9BUCWRGcCx5dX75f659o3cIbiZhX1ErPxUrthWz/7HpWtRPwCqudp6pkSaINYIEgKOBBocEkFicpKt0vT/Rb+Zi/G8S8SdDPMhO9V5NbGt2An3ff+1+M3rVcRJmRVfeRWIyZR2JB3Txzds6x1i0uKPXlSCL5YNcgKGAsYRujJ2X6KXitgrKzd6O9KUKbCA7NXVIhlnsZzlzF3tKf7N/TXwzdZxq11xNTH45+CRYD0X5Y+Nczs+6U6lrmoqOC4YugRiA0oJHiUaTgqCWsAjDS9fF7NACxxgBLtxBwVMmY5hvtng7fv5/8H0ieL9uD2J0UmNAaCwZFxsBFeut1YnBQa9gn2GSpoh6gguAbIGShlePd5uWqkG88M8O5fr6CxGaJgQ7q00CXotr4XWzfM5/Gn+cenhy6mZLWApHrDPEHvEI2vIn3X7IfLWzpKKWtYs/hHiAf4BShNWLzpbppLu1xMhy3SfzPgkPH/MzS0eDWBhnmnKyeiN/yX+hfMJ1YWvNXW1NvzpRJr4QrfrD5KnPALxdqkibM496hmGBDYCJgsKIiZKTn32vzMH21WHraAFlF7AspkCvUkFi5W48eP59/n8ufpx4cm/1YoZTmkG5LXsYgwJ57ALXxMJZsE6gHZMqicKCFoA4gSKGro6amoupELujzq7jkvmlD0IlwzmLTAxdxmpSdWB8uH9CfwJ7F3O+Z05ZNUj1NCEgWApB9IPexMmitrGlcJdNjJyEmYBigPeDQIsClu2jl7R/xxfcwfHWB7EdqTIeRn1XQGb4cUp6937cf/F8TnYkbMFei07+O6gnIxIV/CPm99AyvWqrKJzfj+2Gl4EFgESCQYjQkaieZq6SwKLU/ukAAA==\" type=\"audio/wav\" />\n",
       "                    Your browser does not support the audio element.\n",
       "                </audio>\n",
       "              "
      ],
      "text/plain": [
       "<IPython.lib.display.Audio object>"
      ]
     },
     "metadata": {},
     "output_type": "display_data"
    }
   ],
   "source": [
    "synth(440)"
   ]
  },
  {
   "cell_type": "code",
   "execution_count": 10,
   "metadata": {
    "collapsed": true
   },
   "outputs": [],
   "source": [
    "notes = 'C,C#,D,D#,E,F,F#,G,G#,A,A#,B,C'.split(',')\n",
    "freqs = 440. * 2**(np.arange(3, 3 + len(notes)) / 12.)\n",
    "notes = list(zip(notes, freqs))"
   ]
  },
  {
   "cell_type": "markdown",
   "metadata": {},
   "source": [
    "## Experiment: Using Python and Sonic Pi"
   ]
  },
  {
   "cell_type": "markdown",
   "metadata": {},
   "source": [
    "Make sure you have all the dependencies installed. See:\n",
    "* http://codelectron.com/play-music-with-python-and-sonic-pi/\n",
    "* https://github.com/gkvoelkl/python-sonic"
   ]
  },
  {
   "cell_type": "code",
   "execution_count": 1,
   "metadata": {
    "collapsed": false
   },
   "outputs": [],
   "source": [
    "from psonic import *\n",
    "import random"
   ]
  },
  {
   "cell_type": "code",
   "execution_count": 2,
   "metadata": {
    "collapsed": true
   },
   "outputs": [],
   "source": [
    "for i in range(35):\n",
    "    play(random.randrange(10,500))\n",
    "    sleep(0.5)"
   ]
  },
  {
   "cell_type": "code",
   "execution_count": 7,
   "metadata": {
    "collapsed": false
   },
   "outputs": [],
   "source": [
    "play(72)\n",
    "sleep(0.5)\n",
    "play(75)"
   ]
  },
  {
   "cell_type": "markdown",
   "metadata": {},
   "source": [
    "### Make some sounds with Sonic Pi"
   ]
  },
  {
   "cell_type": "markdown",
   "metadata": {},
   "source": [
    "Let's create an iterable to play with. Below is a list of random numbers. Eventually we can generalize this to an iterable that actually contains data we care about."
   ]
  },
  {
   "cell_type": "code",
   "execution_count": 27,
   "metadata": {
    "collapsed": false
   },
   "outputs": [],
   "source": [
    "## Make a list of random numbers based on Normal distribution\n",
    "\n",
    "list_of_nums = [np.random.normal(0,1) for i in range(0,31)]"
   ]
  },
  {
   "cell_type": "code",
   "execution_count": null,
   "metadata": {
    "collapsed": false
   },
   "outputs": [],
   "source": [
    "## Play sounds: If number is beyond 1 std dev, play a note.\n",
    "\n",
    "for num in list_of_nums:\n",
    "    if abs(num) > 1:\n",
    "        play(72)\n",
    "    sleep(0.5)"
   ]
  },
  {
   "cell_type": "code",
   "execution_count": null,
   "metadata": {
    "collapsed": true
   },
   "outputs": [],
   "source": []
  },
  {
   "cell_type": "code",
   "execution_count": null,
   "metadata": {
    "collapsed": true
   },
   "outputs": [],
   "source": []
  }
 ],
 "metadata": {
  "kernelspec": {
   "display_name": "Python [py36]",
   "language": "python",
   "name": "Python [py36]"
  },
  "language_info": {
   "codemirror_mode": {
    "name": "ipython",
    "version": 3
   },
   "file_extension": ".py",
   "mimetype": "text/x-python",
   "name": "python",
   "nbconvert_exporter": "python",
   "pygments_lexer": "ipython3",
   "version": "3.6.2"
  }
 },
 "nbformat": 4,
 "nbformat_minor": 0
}
