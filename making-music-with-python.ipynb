{
 "cells": [
  {
   "cell_type": "markdown",
   "metadata": {},
   "source": [
    "This Jupyter notebook documents my attempts to mess around with code to generate sound (and, hopefully, music!). \n",
    "\n",
    "### Reference Material\n",
    "\n",
    "* [iPython Audio](https://musicinformationretrieval.com/ipython_audio.html)\n",
    "* [Pyknon](http://kroger.github.io/pyknon/)\n",
    "* [Making Music and Embedding Sounds in Jupyter Notebooks](https://blog.ouseful.info/2016/09/13/making-music-and-embedding-sounds-in-jupyter-notebooks/)"
   ]
  },
  {
   "cell_type": "markdown",
   "metadata": {},
   "source": [
    "## Import all the things"
   ]
  },
  {
   "cell_type": "code",
   "execution_count": 15,
   "metadata": {
    "collapsed": false
   },
   "outputs": [],
   "source": [
    "## Scientific computing\n",
    "\n",
    "import numpy as np\n",
    "import pandas as pd\n",
    "\n",
    "## Audio \n",
    "## (order in which these packages are imported matters, apparently)\n",
    "\n",
    "import librosa\n",
    "import IPython.display as ipd\n",
    "from pyknon.genmidi import Midi\n",
    "from pyknon.music import NoteSeq, Note\n",
    "import music21"
   ]
  },
  {
   "cell_type": "markdown",
   "metadata": {},
   "source": [
    "## Experiment: Create a MIDI file and play it"
   ]
  },
  {
   "cell_type": "code",
   "execution_count": 18,
   "metadata": {
    "collapsed": false
   },
   "outputs": [],
   "source": [
    "melody = [10, 10, 11, 13, 13, 1, 0, 8, 4, 3]\n",
    "\n",
    "def makeMidi(notes, name, filename = 'tune1.midi'):\n",
    "    notes1 = map(Note, notes)\n",
    "    midi = Midi(1, tempo = 90)\n",
    "    midi.seq_notes(notes1, track = 0)\n",
    "    midi.write(filename)\n",
    "    \n",
    "makeMidi(melody, 'Melody 1')"
   ]
  },
  {
   "cell_type": "code",
   "execution_count": 19,
   "metadata": {
    "collapsed": false
   },
   "outputs": [],
   "source": [
    "def playMidi(filename):\n",
    "    '''\n",
    "    This function plays MIDI files.\n",
    "    \n",
    "    Args:\n",
    "        filename: Name of your file\n",
    "    '''\n",
    "    \n",
    "    mf = midi.MidiFile()\n",
    "    mf.open(filename)\n",
    "    mf.read()\n",
    "    mf.close()\n",
    "    s = midi.translate.midiFileToStream(mf)\n",
    "    s.show('midi')"
   ]
  },
  {
   "cell_type": "code",
   "execution_count": 20,
   "metadata": {
    "collapsed": false
   },
   "outputs": [
    {
     "data": {
      "text/html": [
       "\n",
       "                <div id='midiPlayerDiv391'></div>\n",
       "                <link rel=\"stylesheet\" href=\"//cuthbertLab.github.io/music21j/css/m21.css\"\n",
       "                    type=\"text/css\" />\n",
       "                <script>\n",
       "                require.config({\n",
       "                    paths: {'music21': '//cuthbertLab.github.io/music21j/src/music21'}\n",
       "                });\n",
       "                require(['music21'], function() {\n",
       "                               mp = new music21.miditools.MidiPlayer();\n",
       "                               mp.addPlayer('#midiPlayerDiv391');\n",
       "                               mp.base64Load('data:audio/midi;base64,TVRoZAAAAAYAAQABBABNVHJrAAAAeQD/AwVQaWFubwDAAADgAEAAwAAA/1EDCiwrAJBGZIgAgEYAAJBGZIgAgEYAAJBHZIgAgEcAAJBJZIgAgEkAAJBJZIgAgEkAAJA9ZIgAgD0AAJA8ZIgAgDwAAJBEZIgAgEQAAJBAZIgAgEAAAJA/ZIgAgD8AiAD/LwA=');\n",
       "                        });\n",
       "                </script>"
      ],
      "text/plain": [
       "<IPython.core.display.HTML object>"
      ]
     },
     "metadata": {},
     "output_type": "display_data"
    }
   ],
   "source": [
    "playMidi(\"tune1.midi\")"
   ]
  },
  {
   "cell_type": "code",
   "execution_count": null,
   "metadata": {
    "collapsed": false
   },
   "outputs": [],
   "source": []
  },
  {
   "cell_type": "code",
   "execution_count": null,
   "metadata": {
    "collapsed": false
   },
   "outputs": [],
   "source": []
  },
  {
   "cell_type": "code",
   "execution_count": null,
   "metadata": {
    "collapsed": true
   },
   "outputs": [],
   "source": []
  }
 ],
 "metadata": {
  "kernelspec": {
   "display_name": "Python [py36]",
   "language": "python",
   "name": "Python [py36]"
  },
  "language_info": {
   "codemirror_mode": {
    "name": "ipython",
    "version": 3
   },
   "file_extension": ".py",
   "mimetype": "text/x-python",
   "name": "python",
   "nbconvert_exporter": "python",
   "pygments_lexer": "ipython3",
   "version": "3.6.2"
  }
 },
 "nbformat": 4,
 "nbformat_minor": 0
}
